{
  "nbformat": 4,
  "nbformat_minor": 0,
  "metadata": {
    "colab": {
      "name": "OOP.ipynb",
      "provenance": [],
      "collapsed_sections": [],
      "authorship_tag": "ABX9TyPY1kwApn+Sz+kt4dPo1DGb",
      "include_colab_link": true
    },
    "kernelspec": {
      "name": "python3",
      "display_name": "Python 3"
    }
  },
  "cells": [
    {
      "cell_type": "markdown",
      "metadata": {
        "id": "view-in-github",
        "colab_type": "text"
      },
      "source": [
        "<a href=\"https://colab.research.google.com/github/JonathanMov/DataStructures/blob/master/OOP.ipynb\" target=\"_parent\"><img src=\"https://colab.research.google.com/assets/colab-badge.svg\" alt=\"Open In Colab\"/></a>"
      ]
    },
    {
      "cell_type": "code",
      "metadata": {
        "id": "vbI9bweU6Isv"
      },
      "source": [
        "class MycomplexNumber:\r\n",
        "  # Constructor Methods\r\n",
        "  def __init__(self, real = 0, imag = 0):\r\n",
        "    print(\"MyComplexNumber constructor executing...\")\r\n",
        "    self.real_part = real\r\n",
        "    self.imag_part = imag\r\n",
        "\r\n",
        "  def displayContent(self):\r\n",
        "    print(\"{0} + {1}j\".format(self.real_part, self.imag_part))"
      ],
      "execution_count": null,
      "outputs": []
    }
  ]
}