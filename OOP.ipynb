{
  "nbformat": 4,
  "nbformat_minor": 0,
  "metadata": {
    "colab": {
      "name": "OOP.ipynb",
      "provenance": [],
      "collapsed_sections": [],
      "authorship_tag": "ABX9TyOJMHlbbBuEQuYICRWxO0hm"
    },
    "kernelspec": {
      "name": "python3",
      "display_name": "Python 3"
    }
  },
  "cells": [
    {
      "cell_type": "code",
      "metadata": {
        "id": "vbI9bweU6Isv"
      },
      "source": [
        "class MycomplexNumber:\r\n",
        "  # Constructor Methods\r\n",
        "  def __init__(self, real = 0, imag = 0):\r\n",
        "    print(\"MyComplexNumber constructor executing...\")\r\n",
        "    self.real_part = real\r\n",
        "    self.imag_part = imag\r\n",
        "\r\n",
        "  def displayComplex(self):\r\n",
        "    print(\"{0} + {1}j\".format(self.real_part, self.imag_part))"
      ],
      "execution_count": 2,
      "outputs": []
    },
    {
      "cell_type": "code",
      "metadata": {
        "id": "1SiYyer18pKn"
      },
      "source": [
        "# Create a new Object against MyComplexNumber class\r\n",
        "cmplx1 = MyComplexNumber(40,50)\r\n",
        "\r\n",
        "# Calling displayComplex() function"
      ],
      "execution_count": null,
      "outputs": []
    }
  ]
}